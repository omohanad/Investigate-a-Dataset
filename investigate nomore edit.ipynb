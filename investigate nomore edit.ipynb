{
 "cells": [
  {
   "cell_type": "markdown",
   "metadata": {},
   "source": [
    "\n",
    "\n",
    "# Project: Investigate a Dataset - [noshowappointments-kagglev2-may-2016.csv]\n",
    "\n",
    "\n",
    "## Table of Contents\n",
    "<ul>\n",
    "<li><a href=\"#intro\">Introduction</a></li>\n",
    "<li><a href=\"#wrangling\">Data Wrangling</a></li>\n",
    "<li><a href=\"#eda\">Exploratory Data Analysis</a></li>\n",
    "<li><a href=\"#conclusions\">Conclusions</a></li>\n",
    "</ul>"
   ]
  },
  {
   "cell_type": "markdown",
   "metadata": {},
   "source": [
    "<a id='intro'></a>\n",
    "## Introduction:\n",
    "\n",
    "\n",
    "### Dataset Description \n",
    "\n",
    "This dataset collects information from 100k medical appointments in\n",
    "Brazil and is focused on the question of whether or not patients show up\n",
    "for their appointment. A number of characteristics about the patient are\n",
    "included in each row.  ‘ScheduledDay’ tells us on\n",
    "what day the patient set up their appointment.\n",
    "● ‘Neighborhood’ indicates the location of the hospital.\n",
    "● ‘Scholarship’ indicates\n",
    "whether or not the patient is\n",
    "enrolled in Brasilian welfare\n",
    "program Bolsa Família.\n",
    "● Be careful about the encoding\n",
    "of the last column: it says ‘No’ if the patient showed up to their appointment, and ‘Yes’ if they did not show up. \n",
    "\n",
    "\n",
    "### Question(s) for Analysis;\n",
    "What factors are important for us to know in order to predict if a patient will show up for their scheduled appointment?\n"
   ]
  },
  {
   "cell_type": "code",
   "execution_count": 1,
   "metadata": {},
   "outputs": [],
   "source": [
    "import numpy as np\n",
    "import pandas as pd\n",
    "import matplotlib.pyplot as plt\n",
    "import seaborn as sns\n",
    "\n",
    "% matplotlib inline\n"
   ]
  },
  {
   "cell_type": "code",
   "execution_count": 2,
   "metadata": {},
   "outputs": [
    {
     "name": "stdout",
     "output_type": "stream",
     "text": [
      "Collecting pandas==0.25.0\n",
      "\u001b[?25l  Downloading https://files.pythonhosted.org/packages/1d/9a/7eb9952f4b4d73fbd75ad1d5d6112f407e695957444cb695cbb3cdab918a/pandas-0.25.0-cp36-cp36m-manylinux1_x86_64.whl (10.5MB)\n",
      "\u001b[K    100% |████████████████████████████████| 10.5MB 3.8MB/s eta 0:00:01   54% |█████████████████▍              | 5.7MB 29.4MB/s eta 0:00:01    80% |█████████████████████████▊      | 8.4MB 27.3MB/s eta 0:00:01    93% |█████████████████████████████▉  | 9.8MB 28.4MB/s eta 0:00:01\n",
      "\u001b[?25hRequirement already satisfied, skipping upgrade: python-dateutil>=2.6.1 in /opt/conda/lib/python3.6/site-packages (from pandas==0.25.0) (2.6.1)\n",
      "Collecting numpy>=1.13.3 (from pandas==0.25.0)\n",
      "\u001b[?25l  Downloading https://files.pythonhosted.org/packages/45/b2/6c7545bb7a38754d63048c7696804a0d947328125d81bf12beaa692c3ae3/numpy-1.19.5-cp36-cp36m-manylinux1_x86_64.whl (13.4MB)\n",
      "\u001b[K    100% |████████████████████████████████| 13.4MB 3.0MB/s eta 0:00:01  9% |███▏                            | 1.3MB 24.9MB/s eta 0:00:01    19% |██████▏                         | 2.6MB 22.8MB/s eta 0:00:01    28% |█████████                       | 3.8MB 24.8MB/s eta 0:00:01    38% |████████████▎                   | 5.1MB 28.8MB/s eta 0:00:01    88% |████████████████████████████▎   | 11.8MB 23.3MB/s eta 0:00:01\n",
      "\u001b[?25hRequirement already satisfied, skipping upgrade: pytz>=2017.2 in /opt/conda/lib/python3.6/site-packages (from pandas==0.25.0) (2017.3)\n",
      "Requirement already satisfied, skipping upgrade: six>=1.5 in /opt/conda/lib/python3.6/site-packages (from python-dateutil>=2.6.1->pandas==0.25.0) (1.11.0)\n",
      "\u001b[31mtensorflow 1.3.0 requires tensorflow-tensorboard<0.2.0,>=0.1.0, which is not installed.\u001b[0m\n",
      "Installing collected packages: numpy, pandas\n",
      "  Found existing installation: numpy 1.12.1\n",
      "    Uninstalling numpy-1.12.1:\n",
      "      Successfully uninstalled numpy-1.12.1\n",
      "  Found existing installation: pandas 0.23.3\n",
      "    Uninstalling pandas-0.23.3:\n",
      "      Successfully uninstalled pandas-0.23.3\n",
      "Successfully installed numpy-1.19.5 pandas-0.25.0\n"
     ]
    }
   ],
   "source": [
    "!pip install --upgrade pandas==0.25.0\n",
    "\n"
   ]
  },
  {
   "cell_type": "markdown",
   "metadata": {},
   "source": [
    "<a id='wrangling'></a>\n",
    "## Data Wrangling\n",
    "\n",
    "In This section i start loading the data and Take a look on using the Data frame of pandas.\n",
    "Check Data type of each column\n",
    "Check missing values\n",
    "Check duplicate values\n",
    "Check every individual Columns (valid, accurate, concise)\n",
    "Check the relation between columns\n",
    "\n",
    "\n"
   ]
  },
  {
   "cell_type": "code",
   "execution_count": 3,
   "metadata": {},
   "outputs": [],
   "source": [
    "# Load your data and print out a few lines. Perform operations to inspect data\n",
    "#   types and look for instances of missing or possibly errant data.\n",
    "df = pd.read_csv('noshowappointments-kagglev2-may-2016.csv', sep= ',')\n",
    "\n",
    "\n",
    "\n",
    "\n",
    "\n",
    "\n",
    "\n",
    "\n",
    "\n",
    "\n",
    "\n",
    "\n",
    "\n",
    "\n"
   ]
  },
  {
   "cell_type": "code",
   "execution_count": 4,
   "metadata": {},
   "outputs": [
    {
     "data": {
      "text/plain": [
       "(110527, 14)"
      ]
     },
     "execution_count": 4,
     "metadata": {},
     "output_type": "execute_result"
    }
   ],
   "source": [
    "df.shape \n",
    "\n"
   ]
  },
  {
   "cell_type": "code",
   "execution_count": 5,
   "metadata": {
    "scrolled": true
   },
   "outputs": [
    {
     "name": "stdout",
     "output_type": "stream",
     "text": [
      "<class 'pandas.core.frame.DataFrame'>\n",
      "RangeIndex: 110527 entries, 0 to 110526\n",
      "Data columns (total 14 columns):\n",
      "PatientId         110527 non-null float64\n",
      "AppointmentID     110527 non-null int64\n",
      "Gender            110527 non-null object\n",
      "ScheduledDay      110527 non-null object\n",
      "AppointmentDay    110527 non-null object\n",
      "Age               110527 non-null int64\n",
      "Neighbourhood     110527 non-null object\n",
      "Scholarship       110527 non-null int64\n",
      "Hipertension      110527 non-null int64\n",
      "Diabetes          110527 non-null int64\n",
      "Alcoholism        110527 non-null int64\n",
      "Handcap           110527 non-null int64\n",
      "SMS_received      110527 non-null int64\n",
      "No-show           110527 non-null object\n",
      "dtypes: float64(1), int64(8), object(5)\n",
      "memory usage: 11.8+ MB\n"
     ]
    }
   ],
   "source": [
    "df.info()\n",
    "\n"
   ]
  },
  {
   "cell_type": "markdown",
   "metadata": {},
   "source": [
    "There is no missing value"
   ]
  },
  {
   "cell_type": "code",
   "execution_count": 6,
   "metadata": {},
   "outputs": [
    {
     "data": {
      "text/plain": [
       "0"
      ]
     },
     "execution_count": 6,
     "metadata": {},
     "output_type": "execute_result"
    }
   ],
   "source": [
    "df.duplicated().sum()"
   ]
  },
  {
   "cell_type": "markdown",
   "metadata": {},
   "source": [
    "There is no duplicated "
   ]
  },
  {
   "cell_type": "code",
   "execution_count": 7,
   "metadata": {
    "scrolled": true
   },
   "outputs": [
    {
     "data": {
      "text/plain": [
       "PatientId    62299\n",
       "No-show          2\n",
       "dtype: int64"
      ]
     },
     "execution_count": 7,
     "metadata": {},
     "output_type": "execute_result"
    }
   ],
   "source": [
    "df[['PatientId','No-show']].nunique() "
   ]
  },
  {
   "cell_type": "markdown",
   "metadata": {},
   "source": [
    "There is 62299 nom duplicated patients id"
   ]
  },
  {
   "cell_type": "code",
   "execution_count": 8,
   "metadata": {},
   "outputs": [
    {
     "data": {
      "text/plain": [
       "48228"
      ]
     },
     "execution_count": 8,
     "metadata": {},
     "output_type": "execute_result"
    }
   ],
   "source": [
    "df['PatientId'].duplicated().sum()\n"
   ]
  },
  {
   "cell_type": "code",
   "execution_count": 9,
   "metadata": {},
   "outputs": [
    {
     "data": {
      "text/plain": [
       "38710"
      ]
     },
     "execution_count": 9,
     "metadata": {},
     "output_type": "execute_result"
    }
   ],
   "source": [
    "df.duplicated(['PatientId', 'No-show']).sum()"
   ]
  },
  {
   "cell_type": "markdown",
   "metadata": {},
   "source": [
    "There is 38710 patient with the same id and same result of show "
   ]
  },
  {
   "cell_type": "code",
   "execution_count": 10,
   "metadata": {
    "scrolled": true
   },
   "outputs": [
    {
     "data": {
      "text/plain": [
       "PatientId          62299\n",
       "AppointmentID     110527\n",
       "Gender                 2\n",
       "ScheduledDay      103549\n",
       "AppointmentDay        27\n",
       "Age                  104\n",
       "Neighbourhood         81\n",
       "Scholarship            2\n",
       "Hipertension           2\n",
       "Diabetes               2\n",
       "Alcoholism             2\n",
       "Handcap                5\n",
       "SMS_received           2\n",
       "No-show                2\n",
       "dtype: int64"
      ]
     },
     "execution_count": 10,
     "metadata": {},
     "output_type": "execute_result"
    }
   ],
   "source": [
    "df.apply(lambda x: x.nunique())"
   ]
  },
  {
   "cell_type": "markdown",
   "metadata": {},
   "source": [
    "useing apply method to check every unique value of each columns.\n",
    "\n"
   ]
  },
  {
   "cell_type": "code",
   "execution_count": 11,
   "metadata": {
    "scrolled": true
   },
   "outputs": [
    {
     "name": "stdout",
     "output_type": "stream",
     "text": [
      "          PatientId  AppointmentID            Age    Scholarship  \\\n",
      "count  1.105270e+05   1.105270e+05  110527.000000  110527.000000   \n",
      "mean   1.474963e+14   5.675305e+06      37.088874       0.098266   \n",
      "std    2.560949e+14   7.129575e+04      23.110205       0.297675   \n",
      "min    3.921784e+04   5.030230e+06      -1.000000       0.000000   \n",
      "25%    4.172614e+12   5.640286e+06      18.000000       0.000000   \n",
      "50%    3.173184e+13   5.680573e+06      37.000000       0.000000   \n",
      "75%    9.439172e+13   5.725524e+06      55.000000       0.000000   \n",
      "max    9.999816e+14   5.790484e+06     115.000000       1.000000   \n",
      "\n",
      "        Hipertension       Diabetes     Alcoholism        Handcap  \\\n",
      "count  110527.000000  110527.000000  110527.000000  110527.000000   \n",
      "mean        0.197246       0.071865       0.030400       0.022248   \n",
      "std         0.397921       0.258265       0.171686       0.161543   \n",
      "min         0.000000       0.000000       0.000000       0.000000   \n",
      "25%         0.000000       0.000000       0.000000       0.000000   \n",
      "50%         0.000000       0.000000       0.000000       0.000000   \n",
      "75%         0.000000       0.000000       0.000000       0.000000   \n",
      "max         1.000000       1.000000       1.000000       4.000000   \n",
      "\n",
      "        SMS_received  \n",
      "count  110527.000000  \n",
      "mean        0.321026  \n",
      "std         0.466873  \n",
      "min         0.000000  \n",
      "25%         0.000000  \n",
      "50%         0.000000  \n",
      "75%         1.000000  \n",
      "max         1.000000  \n"
     ]
    }
   ],
   "source": [
    "print(df.describe())"
   ]
  },
  {
   "cell_type": "markdown",
   "metadata": {
    "scrolled": true
   },
   "source": [
    "The average age of patients are 37 years\n",
    "almost 2 frpm 100 hand hypertension and 1 from 100 had diabets\n",
    "There is a 0.3 of patients recieved sms very small number\n",
    "max age is 115 \n",
    "\n"
   ]
  },
  {
   "cell_type": "markdown",
   "metadata": {},
   "source": [
    "issues to deal with:1/ min age\n",
    "2/ drop dublicated values of patient id \n",
    "3/drop AppointmentID/ ScheduledDay/AppointmentDay/Scholarship\n",
    "4/fix the spell of hyptertension\n",
    "\n"
   ]
  },
  {
   "cell_type": "markdown",
   "metadata": {},
   "source": [
    "\n",
    "### Data Cleaning\n",
    ">> While Data wrangling i could figure that there is PatientId dublicated values need to be removed.\n",
    "\n",
    "> I will not need AppointmentID,ScheduledDay and Alcoholism in my data anylsis so i'm gonna drop them.\n",
    "> Minimum age is -1 .\n",
    "\n",
    ">The misspeling of hypertension \n",
    "\n",
    "> I'm gonna mergeing Diabetic, hypertension and handcap in one column to make it easier in data analysis \"chronic Diseases\".\n",
    "\n",
    "> Creat a new columns of appear and absent.\n",
    "\n",
    "\n",
    "\n",
    "\n",
    "\n"
   ]
  },
  {
   "cell_type": "code",
   "execution_count": 12,
   "metadata": {
    "scrolled": false
   },
   "outputs": [],
   "source": [
    "df.drop_duplicates(subset=['PatientId'], keep='first', inplace=True )\n",
    "\n"
   ]
  },
  {
   "cell_type": "markdown",
   "metadata": {},
   "source": [
    "drop the duplicated values of paientId while keeping the first result occurs in data."
   ]
  },
  {
   "cell_type": "code",
   "execution_count": 13,
   "metadata": {},
   "outputs": [
    {
     "name": "stdout",
     "output_type": "stream",
     "text": [
      "<class 'pandas.core.frame.DataFrame'>\n",
      "Int64Index: 62299 entries, 0 to 110524\n",
      "Data columns (total 14 columns):\n",
      "PatientId         62299 non-null float64\n",
      "AppointmentID     62299 non-null int64\n",
      "Gender            62299 non-null object\n",
      "ScheduledDay      62299 non-null object\n",
      "AppointmentDay    62299 non-null object\n",
      "Age               62299 non-null int64\n",
      "Neighbourhood     62299 non-null object\n",
      "Scholarship       62299 non-null int64\n",
      "Hipertension      62299 non-null int64\n",
      "Diabetes          62299 non-null int64\n",
      "Alcoholism        62299 non-null int64\n",
      "Handcap           62299 non-null int64\n",
      "SMS_received      62299 non-null int64\n",
      "No-show           62299 non-null object\n",
      "dtypes: float64(1), int64(8), object(5)\n",
      "memory usage: 7.1+ MB\n"
     ]
    }
   ],
   "source": [
    "df.info()\n"
   ]
  },
  {
   "cell_type": "code",
   "execution_count": 14,
   "metadata": {},
   "outputs": [],
   "source": [
    "df.drop(['AppointmentID','ScheduledDay','AppointmentDay','Alcoholism'], axis=1, inplace=True)\n"
   ]
  },
  {
   "cell_type": "markdown",
   "metadata": {},
   "source": [
    "removing the columns which would have no use in data analysis\n"
   ]
  },
  {
   "cell_type": "code",
   "execution_count": 15,
   "metadata": {},
   "outputs": [
    {
     "name": "stdout",
     "output_type": "stream",
     "text": [
      "          PatientId Gender  Age Neighbourhood  Scholarship  Hipertension  \\\n",
      "99832  4.659432e+14      F   -1         ROMÃO            0             0   \n",
      "\n",
      "       Diabetes  Handcap  SMS_received No-show  \n",
      "99832         0        0             0      No  \n"
     ]
    }
   ],
   "source": [
    "print(df.query(\"Age =='-1'\"))"
   ]
  },
  {
   "cell_type": "markdown",
   "metadata": {},
   "source": [
    "using query to find the -1 in Age"
   ]
  },
  {
   "cell_type": "code",
   "execution_count": 16,
   "metadata": {
    "scrolled": true
   },
   "outputs": [],
   "source": [
    "df.drop(index=99832,inplace=True)"
   ]
  },
  {
   "cell_type": "code",
   "execution_count": 17,
   "metadata": {},
   "outputs": [
    {
     "name": "stdout",
     "output_type": "stream",
     "text": [
      "          PatientId           Age   Scholarship  Hipertension      Diabetes  \\\n",
      "count  6.229800e+04  62298.000000  62298.000000  62298.000000  62298.000000   \n",
      "mean   1.471660e+14     36.705496      0.092908      0.196507      0.070885   \n",
      "std    2.549080e+14     23.531076      0.290306      0.397360      0.256635   \n",
      "min    3.921784e+04      0.000000      0.000000      0.000000      0.000000   \n",
      "25%    4.176935e+12     17.000000      0.000000      0.000000      0.000000   \n",
      "50%    3.198294e+13     36.000000      0.000000      0.000000      0.000000   \n",
      "75%    9.484763e+13     56.000000      0.000000      0.000000      0.000000   \n",
      "max    9.999816e+14    115.000000      1.000000      1.000000      1.000000   \n",
      "\n",
      "            Handcap  SMS_received  \n",
      "count  62298.000000  62298.000000  \n",
      "mean       0.020113      0.327362  \n",
      "std        0.155058      0.469254  \n",
      "min        0.000000      0.000000  \n",
      "25%        0.000000      0.000000  \n",
      "50%        0.000000      0.000000  \n",
      "75%        0.000000      1.000000  \n",
      "max        4.000000      1.000000  \n"
     ]
    }
   ],
   "source": [
    "print(df.describe())"
   ]
  },
  {
   "cell_type": "code",
   "execution_count": 18,
   "metadata": {},
   "outputs": [
    {
     "name": "stdout",
     "output_type": "stream",
     "text": [
      "      PatientId Gender  Age      Neighbourhood  Scholarship  Hipertension  \\\n",
      "0  2.987250e+13      F   62    JARDIM DA PENHA            0             1   \n",
      "1  5.589978e+14      M   56    JARDIM DA PENHA            0             0   \n",
      "2  4.262962e+12      F   62      MATA DA PRAIA            0             0   \n",
      "3  8.679512e+11      F    8  PONTAL DE CAMBURI            0             0   \n",
      "4  8.841186e+12      F   56    JARDIM DA PENHA            0             1   \n",
      "\n",
      "   Diabetes  Handcap  SMS_received No-show  \n",
      "0         0        0             0      No  \n",
      "1         0        0             0      No  \n",
      "2         0        0             0      No  \n",
      "3         0        0             0      No  \n",
      "4         1        0             0      No  \n"
     ]
    }
   ],
   "source": [
    "print(df.head())\n",
    "\n",
    "\n"
   ]
  },
  {
   "cell_type": "code",
   "execution_count": 19,
   "metadata": {
    "scrolled": false
   },
   "outputs": [],
   "source": [
    "df.rename(columns={'Hipertension':'Hypertension'}, inplace=True)\n"
   ]
  },
  {
   "cell_type": "code",
   "execution_count": 20,
   "metadata": {},
   "outputs": [],
   "source": [
    "df.rename(columns={'No-show':'No_show'}, inplace=True)\n"
   ]
  },
  {
   "cell_type": "code",
   "execution_count": 21,
   "metadata": {},
   "outputs": [],
   "source": [
    "appear = np.where(df['No_show'] == \"No\", True, False)\n",
    "absent = np.where(df['No_show'] == \"Yes\", True, False)\n",
    "\n",
    "\n"
   ]
  },
  {
   "cell_type": "code",
   "execution_count": 22,
   "metadata": {},
   "outputs": [],
   "source": [
    "df_appear = df[appear]\n",
    "df_absent = df[absent]"
   ]
  },
  {
   "cell_type": "code",
   "execution_count": 23,
   "metadata": {
    "scrolled": true
   },
   "outputs": [
    {
     "name": "stdout",
     "output_type": "stream",
     "text": [
      "      PatientId Gender  Age      Neighbourhood  Scholarship  Hypertension  \\\n",
      "0  2.987250e+13      F   62    JARDIM DA PENHA            0             1   \n",
      "1  5.589978e+14      M   56    JARDIM DA PENHA            0             0   \n",
      "2  4.262962e+12      F   62      MATA DA PRAIA            0             0   \n",
      "3  8.679512e+11      F    8  PONTAL DE CAMBURI            0             0   \n",
      "4  8.841186e+12      F   56    JARDIM DA PENHA            0             1   \n",
      "\n",
      "   Diabetes  Handcap  SMS_received No_show  \n",
      "0         0        0             0      No  \n",
      "1         0        0             0      No  \n",
      "2         0        0             0      No  \n",
      "3         0        0             0      No  \n",
      "4         1        0             0      No  \n"
     ]
    }
   ],
   "source": [
    "\n",
    "print(df.head())\n"
   ]
  },
  {
   "cell_type": "code",
   "execution_count": 24,
   "metadata": {},
   "outputs": [],
   "source": [
    "df['Chronic_Diseases'] = df[['Hypertension', 'Handcap', 'Diabetes']].any(axis=1).astype(int)"
   ]
  },
  {
   "cell_type": "markdown",
   "metadata": {},
   "source": [
    "creat a new column of Chronic Diseases, combine the values of Hypertension and handcap and diabetes in new column of chronic diseases\n",
    "\n"
   ]
  },
  {
   "cell_type": "code",
   "execution_count": 25,
   "metadata": {},
   "outputs": [
    {
     "data": {
      "text/plain": [
       "No     50105\n",
       "Yes    12193\n",
       "Name: No_show, dtype: int64"
      ]
     },
     "execution_count": 25,
     "metadata": {},
     "output_type": "execute_result"
    }
   ],
   "source": [
    "df['No_show'].value_counts()"
   ]
  },
  {
   "cell_type": "markdown",
   "metadata": {},
   "source": [
    "<a id='eda'></a>\n",
    "## Exploratory Data Analysis\n",
    ">>> Is there a correlation between certain demographic factor of gender  has a predication of a no-show appointment?\n",
    ">>> Peope with Scholarship more likely to appear or absent?\n",
    "\n",
    ">>> does people who recieved sms attend more than people who dosen't?\n",
    "\n",
    ">>>does gender and chronic disesaes together affect the show ?\n",
    "\n",
    "\n",
    "\n",
    "\n",
    "\n",
    "\n",
    "\n"
   ]
  },
  {
   "cell_type": "code",
   "execution_count": 63,
   "metadata": {},
   "outputs": [],
   "source": [
    "df['No_show'] = df['No_show'].map({'No': 1, 'Yes': 0})"
   ]
  },
  {
   "cell_type": "markdown",
   "metadata": {},
   "source": [
    "The no_show was appear in yes and no makes erorr while finding the correlation so iby using map i change it to 0 and 1 "
   ]
  },
  {
   "cell_type": "code",
   "execution_count": 64,
   "metadata": {},
   "outputs": [
    {
     "name": "stdout",
     "output_type": "stream",
     "text": [
      "      PatientId Gender  Age      Neighbourhood  Scholarship  Hypertension  \\\n",
      "0  2.987250e+13      F   62    JARDIM DA PENHA            0             1   \n",
      "1  5.589978e+14      M   56    JARDIM DA PENHA            0             0   \n",
      "2  4.262962e+12      F   62      MATA DA PRAIA            0             0   \n",
      "3  8.679512e+11      F    8  PONTAL DE CAMBURI            0             0   \n",
      "4  8.841186e+12      F   56    JARDIM DA PENHA            0             1   \n",
      "\n",
      "   Diabetes  Handcap  SMS_received  No_show  Chronic_Diseases  \n",
      "0         0        0             0      NaN                 1  \n",
      "1         0        0             0      NaN                 0  \n",
      "2         0        0             0      NaN                 0  \n",
      "3         0        0             0      NaN                 0  \n",
      "4         1        0             0      NaN                 1  \n"
     ]
    }
   ],
   "source": [
    "print(df.head())"
   ]
  },
  {
   "cell_type": "code",
   "execution_count": 65,
   "metadata": {},
   "outputs": [],
   "source": [
    "def plot_appearance_effect(df, column_name):\n",
    "    \n",
    "    plt.figure(figsize=[20,10])\n",
    "    df[column_name][appear].hist(alpha=0.5, bins=20, color='red', label='Appear')\n",
    "    df[column_name][absent].hist(alpha=0.5, bins=20, color='blue', label='Absent')\n",
    "    plt.legend()\n",
    "    plt.title('{} effect on attendance'.format(column_name))\n",
    "    plt.xlabel(column_name)\n",
    "    plt.ylabel('Total Patients')\n",
    "\n"
   ]
  },
  {
   "cell_type": "markdown",
   "metadata": {},
   "source": [
    "build a function to avoid Repetition of code."
   ]
  },
  {
   "cell_type": "markdown",
   "metadata": {},
   "source": [
    "most appearance occurs in the infants between the age of 20 to 40 people more likely to absent compearin to other ages and older more likely to appear"
   ]
  },
  {
   "cell_type": "markdown",
   "metadata": {},
   "source": [
    "visulazie columns\n"
   ]
  },
  {
   "cell_type": "markdown",
   "metadata": {},
   "source": [
    "## the gender \n"
   ]
  },
  {
   "cell_type": "code",
   "execution_count": 28,
   "metadata": {},
   "outputs": [
    {
     "data": {
      "text/plain": [
       "F    40045\n",
       "M    22253\n",
       "Name: Gender, dtype: int64"
      ]
     },
     "execution_count": 28,
     "metadata": {},
     "output_type": "execute_result"
    }
   ],
   "source": [
    "df['Gender'].value_counts()"
   ]
  },
  {
   "cell_type": "code",
   "execution_count": 29,
   "metadata": {},
   "outputs": [
    {
     "data": {
      "text/plain": [
       "F    32217\n",
       "M    17888\n",
       "Name: Gender, dtype: int64"
      ]
     },
     "execution_count": 29,
     "metadata": {},
     "output_type": "execute_result"
    }
   ],
   "source": [
    "df_appear['Gender'].value_counts()"
   ]
  },
  {
   "cell_type": "markdown",
   "metadata": {},
   "source": [
    "32217 female has show at the time of appointment\n",
    "17888 male has show at the time of appointment\n"
   ]
  },
  {
   "cell_type": "code",
   "execution_count": 30,
   "metadata": {
    "scrolled": true
   },
   "outputs": [
    {
     "data": {
      "text/plain": [
       "F    7828\n",
       "M    4365\n",
       "Name: Gender, dtype: int64"
      ]
     },
     "execution_count": 30,
     "metadata": {},
     "output_type": "execute_result"
    }
   ],
   "source": [
    "df_absent['Gender'].value_counts()"
   ]
  },
  {
   "cell_type": "markdown",
   "metadata": {},
   "source": [
    "7828 females absent the appointment \n",
    " 4365 males absent the appointment"
   ]
  },
  {
   "cell_type": "code",
   "execution_count": 31,
   "metadata": {},
   "outputs": [
    {
     "data": {
      "text/plain": [
       "80.45199150955176"
      ]
     },
     "execution_count": 31,
     "metadata": {},
     "output_type": "execute_result"
    }
   ],
   "source": [
    "32217 / 40045 *100\n"
   ]
  },
  {
   "cell_type": "code",
   "execution_count": 32,
   "metadata": {},
   "outputs": [
    {
     "data": {
      "text/plain": [
       "80.38466723587831"
      ]
     },
     "execution_count": 32,
     "metadata": {},
     "output_type": "execute_result"
    }
   ],
   "source": [
    "17888 / 22253 * 100"
   ]
  },
  {
   "cell_type": "markdown",
   "metadata": {},
   "source": [
    "about 80% of females will show in the appoinment time\n",
    "and 80% of male patients will show at the appoinment time \n",
    " concusion gender has no real effect on predication p.s these values after removing the duplicated patients id and keeping the first value appears but even without removing the dublicated the differnces cant tell a predication \n"
   ]
  },
  {
   "cell_type": "code",
   "execution_count": 68,
   "metadata": {},
   "outputs": [
    {
     "data": {
      "image/png": "[encoded data removed]",
      "text/plain": [
       "<matplotlib.figure.Figure at 0x7f6e7d6d9710>"
      ]
     },
     "metadata": {
      "needs_background": "light"
     },
     "output_type": "display_data"
    }
   ],
   "source": [
    "plot_appearance_effect(df, 'Gender')"
   ]
  },
  {
   "cell_type": "markdown",
   "metadata": {},
   "source": [
    "The paient who received sms and show in time alost half the paients who received sms and noshow"
   ]
  },
  {
   "cell_type": "markdown",
   "metadata": {},
   "source": [
    "Does SMS_receive affects appperance of paients?"
   ]
  },
  {
   "cell_type": "code",
   "execution_count": 87,
   "metadata": {
    "scrolled": true
   },
   "outputs": [
    {
     "data": {
      "text/plain": [
       "0    41904\n",
       "1    20394\n",
       "Name: SMS_received, dtype: int64"
      ]
     },
     "execution_count": 87,
     "metadata": {},
     "output_type": "execute_result"
    }
   ],
   "source": [
    "df['SMS_received'].value_counts()"
   ]
  },
  {
   "cell_type": "markdown",
   "metadata": {},
   "source": [
    "there is 41904 did not receive any sms\n",
    "while 20394 receive them "
   ]
  },
  {
   "cell_type": "code",
   "execution_count": 88,
   "metadata": {},
   "outputs": [
    {
     "data": {
      "text/plain": [
       "0    35202\n",
       "1    14903\n",
       "Name: SMS_received, dtype: int64"
      ]
     },
     "execution_count": 88,
     "metadata": {},
     "output_type": "execute_result"
    }
   ],
   "source": [
    "df_appear['SMS_received'].value_counts()"
   ]
  },
  {
   "cell_type": "markdown",
   "metadata": {},
   "source": [
    "35202 has appear in the time of appointment while not recieve sms\n",
    "14903 has appear and recieve sms"
   ]
  },
  {
   "cell_type": "code",
   "execution_count": 89,
   "metadata": {
    "scrolled": false
   },
   "outputs": [
    {
     "data": {
      "text/plain": [
       "0    6702\n",
       "1    5491\n",
       "Name: SMS_received, dtype: int64"
      ]
     },
     "execution_count": 89,
     "metadata": {},
     "output_type": "execute_result"
    }
   ],
   "source": [
    "df_absent['SMS_received'].value_counts()"
   ]
  },
  {
   "cell_type": "markdown",
   "metadata": {},
   "source": [
    "6702 absent and not recieve sms\n",
    "5491 absent and receive sms "
   ]
  },
  {
   "cell_type": "code",
   "execution_count": 90,
   "metadata": {},
   "outputs": [
    {
     "data": {
      "text/plain": [
       "73.07541433755026"
      ]
     },
     "execution_count": 90,
     "metadata": {},
     "output_type": "execute_result"
    }
   ],
   "source": [
    "14903 / 20394  *100"
   ]
  },
  {
   "cell_type": "code",
   "execution_count": 91,
   "metadata": {},
   "outputs": [
    {
     "data": {
      "text/plain": [
       "84.00630011454754"
      ]
     },
     "execution_count": 91,
     "metadata": {},
     "output_type": "execute_result"
    }
   ],
   "source": [
    "35202/41904*100"
   ]
  },
  {
   "cell_type": "code",
   "execution_count": 69,
   "metadata": {},
   "outputs": [
    {
     "data": {
      "image/png": "[encoded data removed]",
      "text/plain": [
       "<matplotlib.figure.Figure at 0x7f6e7d6e4390>"
      ]
     },
     "metadata": {
      "needs_background": "light"
     },
     "output_type": "display_data"
    }
   ],
   "source": [
    "plot_appearance_effect(df, 'SMS_received')"
   ]
  },
  {
   "cell_type": "markdown",
   "metadata": {},
   "source": [
    "More than half the paients did not receive a sms \n",
    "and for paients how receive sms 73% has appear at the time of appointment \n"
   ]
  },
  {
   "cell_type": "markdown",
   "metadata": {},
   "source": [
    "does people with chronic disease more likey to appear ?"
   ]
  },
  {
   "cell_type": "code",
   "execution_count": 185,
   "metadata": {},
   "outputs": [
    {
     "name": "stdout",
     "output_type": "stream",
     "text": [
      "      PatientId Gender  Age      Neighbourhood  Scholarship  Hypertension  \\\n",
      "0  2.987250e+13      F   62    JARDIM DA PENHA            0             1   \n",
      "1  5.589978e+14      M   56    JARDIM DA PENHA            0             0   \n",
      "2  4.262962e+12      F   62      MATA DA PRAIA            0             0   \n",
      "3  8.679512e+11      F    8  PONTAL DE CAMBURI            0             0   \n",
      "4  8.841186e+12      F   56    JARDIM DA PENHA            0             1   \n",
      "\n",
      "   Diabetes  Handcap  SMS_received  No_show  Chronic_Diseases  \n",
      "0         0        0             0        1                 1  \n",
      "1         0        0             0        1                 0  \n",
      "2         0        0             0        1                 0  \n",
      "3         0        0             0        1                 0  \n",
      "4         1        0             0        1                 1  \n"
     ]
    }
   ],
   "source": [
    "print(df.head())\n"
   ]
  },
  {
   "cell_type": "code",
   "execution_count": 186,
   "metadata": {},
   "outputs": [
    {
     "data": {
      "image/png": "[encoded data removed]",
      "text/plain": [
       "<matplotlib.figure.Figure at 0x7f2c2da3d978>"
      ]
     },
     "metadata": {},
     "output_type": "display_data"
    }
   ],
   "source": [
    "#percenthe of people with chronic disease to people who have not\n",
    "chronic_diseases_counts = df['Chronic_Diseases'].value_counts()\n",
    "plt.pie(chronic_diseases_counts, labels=['No Chronic Diseases', 'Chronic Diseases'], autopct='%.1f%%')\n",
    "plt.axis('equal')\n",
    "plt.title('Percentage of Patients with Chronic Diseases ')\n",
    "plt.show()"
   ]
  },
  {
   "cell_type": "code",
   "execution_count": 187,
   "metadata": {},
   "outputs": [
    {
     "data": {
      "text/plain": [
       "0    48645\n",
       "1    13653\n",
       "Name: Chronic_Diseases, dtype: int64"
      ]
     },
     "execution_count": 187,
     "metadata": {},
     "output_type": "execute_result"
    }
   ],
   "source": [
    "df['Chronic_Diseases'].value_counts()\n"
   ]
  },
  {
   "cell_type": "code",
   "execution_count": 188,
   "metadata": {},
   "outputs": [
    {
     "data": {
      "text/plain": [
       "0    38740\n",
       "1    11365\n",
       "Name: Chronic_Diseases, dtype: int64"
      ]
     },
     "execution_count": 188,
     "metadata": {},
     "output_type": "execute_result"
    }
   ],
   "source": [
    "df.Chronic_Diseases[appear].value_counts()"
   ]
  },
  {
   "cell_type": "code",
   "execution_count": 189,
   "metadata": {},
   "outputs": [
    {
     "data": {
      "text/plain": [
       "0    9905\n",
       "1    2288\n",
       "Name: Chronic_Diseases, dtype: int64"
      ]
     },
     "execution_count": 189,
     "metadata": {},
     "output_type": "execute_result"
    }
   ],
   "source": [
    "df.Chronic_Diseases[absent].value_counts()"
   ]
  },
  {
   "cell_type": "code",
   "execution_count": 190,
   "metadata": {},
   "outputs": [
    {
     "data": {
      "text/plain": [
       "83.24177836372958"
      ]
     },
     "execution_count": 190,
     "metadata": {},
     "output_type": "execute_result"
    }
   ],
   "source": [
    "11365/13653 *100"
   ]
  },
  {
   "cell_type": "code",
   "execution_count": 191,
   "metadata": {
    "scrolled": true
   },
   "outputs": [
    {
     "data": {
      "text/plain": [
       "79.63819508685374"
      ]
     },
     "execution_count": 191,
     "metadata": {},
     "output_type": "execute_result"
    }
   ],
   "source": [
    "38740/48645 *100"
   ]
  },
  {
   "cell_type": "code",
   "execution_count": 71,
   "metadata": {},
   "outputs": [
    {
     "data": {
      "image/png": "[encoded data removed]",
      "text/plain": [
       "<matplotlib.figure.Figure at 0x7f6e7b581208>"
      ]
     },
     "metadata": {
      "needs_background": "light"
     },
     "output_type": "display_data"
    }
   ],
   "source": [
    "plot_appearance_effect(df, 'Chronic_Diseases')"
   ]
  },
  {
   "cell_type": "markdown",
   "metadata": {},
   "source": [
    "83% of paients with chronic disease shows at appointment time \n",
    "while in paients without any chronic disease about 79% will show"
   ]
  },
  {
   "cell_type": "markdown",
   "metadata": {},
   "source": [
    "doses gender and chornic disease both show differants ?"
   ]
  },
  {
   "cell_type": "code",
   "execution_count": 82,
   "metadata": {
    "scrolled": true
   },
   "outputs": [
    {
     "data": {
      "text/plain": [
       "F_0    30704\n",
       "M_0    17941\n",
       "F_1     9341\n",
       "M_1     4312\n",
       "Name: Gender_Chronic_Diseases, dtype: int64"
      ]
     },
     "execution_count": 82,
     "metadata": {},
     "output_type": "execute_result"
    }
   ],
   "source": [
    "df['Gender_Chronic_Diseases'] = df[['Gender', 'Chronic_Diseases']].apply(lambda x: '{}_{}'.format(x[0], x[1]), axis=1)\n",
    "df['Gender_Chronic_Diseases'].value_counts()"
   ]
  },
  {
   "cell_type": "code",
   "execution_count": 83,
   "metadata": {
    "scrolled": true
   },
   "outputs": [
    {
     "data": {
      "text/plain": [
       "F_0    30704\n",
       "M_0    17941\n",
       "F_1     9341\n",
       "M_1     4312\n",
       "Name: Gender_Chronic_Diseases, dtype: int64"
      ]
     },
     "execution_count": 83,
     "metadata": {},
     "output_type": "execute_result"
    }
   ],
   "source": [
    "df['Gender_Chronic_Diseases'].value_counts()"
   ]
  },
  {
   "cell_type": "code",
   "execution_count": 85,
   "metadata": {},
   "outputs": [
    {
     "data": {
      "text/plain": [
       "F_0    24441\n",
       "M_0    14299\n",
       "F_1     7776\n",
       "M_1     3589\n",
       "Name: Gender_Chronic_Diseases, dtype: int64"
      ]
     },
     "execution_count": 85,
     "metadata": {},
     "output_type": "execute_result"
    }
   ],
   "source": [
    "df.Gender_Chronic_Diseases[appear].value_counts()"
   ]
  },
  {
   "cell_type": "markdown",
   "metadata": {},
   "source": [
    "Making a new column of both gender demographaic and paients with chronic diseases "
   ]
  },
  {
   "cell_type": "code",
   "execution_count": 86,
   "metadata": {
    "scrolled": true
   },
   "outputs": [
    {
     "data": {
      "text/plain": [
       "F_0    6263\n",
       "M_0    3642\n",
       "F_1    1565\n",
       "M_1     723\n",
       "Name: Gender_Chronic_Diseases, dtype: int64"
      ]
     },
     "execution_count": 86,
     "metadata": {},
     "output_type": "execute_result"
    }
   ],
   "source": [
    "df.Gender_Chronic_Diseases[absent].value_counts()"
   ]
  },
  {
   "cell_type": "code",
   "execution_count": 197,
   "metadata": {},
   "outputs": [
    {
     "data": {
      "text/plain": [
       "83.24590514934161"
      ]
     },
     "execution_count": 197,
     "metadata": {},
     "output_type": "execute_result"
    }
   ],
   "source": [
    "#the female paients with chornic diseases who appears\n",
    "7776/9341*100"
   ]
  },
  {
   "cell_type": "code",
   "execution_count": 198,
   "metadata": {},
   "outputs": [
    {
     "data": {
      "text/plain": [
       "83.23283858998145"
      ]
     },
     "execution_count": 198,
     "metadata": {},
     "output_type": "execute_result"
    }
   ],
   "source": [
    "#the male paients with chornic diseases who appears\n",
    "3589/4312*100"
   ]
  },
  {
   "cell_type": "code",
   "execution_count": 199,
   "metadata": {},
   "outputs": [
    {
     "data": {
      "text/plain": [
       "79.6020062532569"
      ]
     },
     "execution_count": 199,
     "metadata": {},
     "output_type": "execute_result"
    }
   ],
   "source": [
    "#the female paients without chornic diseases who appears\n",
    "24441/ 30704*100\n"
   ]
  },
  {
   "cell_type": "code",
   "execution_count": 200,
   "metadata": {},
   "outputs": [
    {
     "data": {
      "text/plain": [
       "79.70012819798228"
      ]
     },
     "execution_count": 200,
     "metadata": {},
     "output_type": "execute_result"
    }
   ],
   "source": [
    "#the male paients without chornic diseases who appears\n",
    "14299/17941*100\n"
   ]
  },
  {
   "cell_type": "code",
   "execution_count": 87,
   "metadata": {},
   "outputs": [
    {
     "data": {
      "image/png": "[encoded data removed]",
      "text/plain": [
       "<matplotlib.figure.Figure at 0x7f6e7afa1d30>"
      ]
     },
     "metadata": {
      "needs_background": "light"
     },
     "output_type": "display_data"
    }
   ],
   "source": [
    "plot_appearance_effect(df, 'Gender_Chronic_Diseases')"
   ]
  },
  {
   "cell_type": "markdown",
   "metadata": {},
   "source": [
    "Peope with Scholarship more likely to appear or absent?"
   ]
  },
  {
   "cell_type": "code",
   "execution_count": 202,
   "metadata": {},
   "outputs": [],
   "source": [
    "scholarship_counts = df['Scholarship'].value_counts()"
   ]
  },
  {
   "cell_type": "code",
   "execution_count": 203,
   "metadata": {},
   "outputs": [
    {
     "data": {
      "text/plain": [
       "0    56510\n",
       "1     5788\n",
       "Name: Scholarship, dtype: int64"
      ]
     },
     "execution_count": 203,
     "metadata": {},
     "output_type": "execute_result"
    }
   ],
   "source": [
    "scholarship_counts"
   ]
  },
  {
   "cell_type": "markdown",
   "metadata": {},
   "source": [
    "56510 has No Scholarship while 5788 has Scholarship"
   ]
  },
  {
   "cell_type": "code",
   "execution_count": 204,
   "metadata": {},
   "outputs": [
    {
     "data": {
      "image/png": "[encoded data removed]",
      "text/plain": [
       "<matplotlib.figure.Figure at 0x7f2c2cda0a20>"
      ]
     },
     "metadata": {},
     "output_type": "display_data"
    }
   ],
   "source": [
    "labels = ['No Scholarship', 'Scholarship']\n",
    "plt.pie(scholarship_counts, labels=labels, autopct='%1.1f%%')\n",
    "plt.title('Scholarship')\n",
    "plt.show()"
   ]
  },
  {
   "cell_type": "code",
   "execution_count": 205,
   "metadata": {
    "scrolled": true
   },
   "outputs": [
    {
     "data": {
      "text/plain": [
       "0    45624\n",
       "1     4481\n",
       "Name: Scholarship, dtype: int64"
      ]
     },
     "execution_count": 205,
     "metadata": {},
     "output_type": "execute_result"
    }
   ],
   "source": [
    "df.Scholarship[appear].value_counts()"
   ]
  },
  {
   "cell_type": "code",
   "execution_count": 206,
   "metadata": {},
   "outputs": [
    {
     "data": {
      "text/plain": [
       "0    10886\n",
       "1     1307\n",
       "Name: Scholarship, dtype: int64"
      ]
     },
     "execution_count": 206,
     "metadata": {},
     "output_type": "execute_result"
    }
   ],
   "source": [
    "df.Scholarship[absent].value_counts()"
   ]
  },
  {
   "cell_type": "markdown",
   "metadata": {},
   "source": [
    "People who appears at the show without Scholarship"
   ]
  },
  {
   "cell_type": "code",
   "execution_count": 207,
   "metadata": {},
   "outputs": [
    {
     "data": {
      "text/plain": [
       "80.73615289329322"
      ]
     },
     "execution_count": 207,
     "metadata": {},
     "output_type": "execute_result"
    }
   ],
   "source": [
    "45624/ 56510*100"
   ]
  },
  {
   "cell_type": "markdown",
   "metadata": {},
   "source": [
    "People who appears at the show with Scholarship"
   ]
  },
  {
   "cell_type": "code",
   "execution_count": 208,
   "metadata": {
    "scrolled": true
   },
   "outputs": [
    {
     "data": {
      "text/plain": [
       "77.41879751209399"
      ]
     },
     "execution_count": 208,
     "metadata": {},
     "output_type": "execute_result"
    }
   ],
   "source": [
    "4481/5788*100"
   ]
  },
  {
   "cell_type": "code",
   "execution_count": 74,
   "metadata": {},
   "outputs": [
    {
     "data": {
      "image/png": "[encoded data removed]",
      "text/plain": [
       "<matplotlib.figure.Figure at 0x7f6e7d95c6a0>"
      ]
     },
     "metadata": {
      "needs_background": "light"
     },
     "output_type": "display_data"
    }
   ],
   "source": [
    "plot_appearance_effect(df, 'Scholarship')"
   ]
  },
  {
   "cell_type": "markdown",
   "metadata": {},
   "source": [
    "People With a Scholarship more likely to absent at the appointment comparing to the people without Scholarship"
   ]
  },
  {
   "cell_type": "markdown",
   "metadata": {},
   "source": [
    "<a id='conclusions'></a>\n",
    "## Conclusions\n",
    "\n",
    "First i ask question about the demographic effects on the attendence and i figure that Gender has no predication in show or no-show as the value almost the same.\n",
    "\n",
    "More than half the paients did not receive a sms and for paients how receive sms 73% has appear at the time of appointment while 84% of people who didn't receive sms has show.\n",
    "people with chornic diseases\"hypertension/Diabetes and/or Handcaped more likely to show.\n",
    "Gender with chronic diseases dosen't affect the appearance but both with chornic disease more likely to show.\n",
    "People With a Scholarship more likely to absent at the appointment comparing to the people without Scholarship.\n",
    "\n",
    "\n",
    "\n"
   ]
  },
  {
   "cell_type": "markdown",
   "metadata": {},
   "source": [
    "## limitations:\n",
    "I have droped the dublications of paient-id but kept the first occurnace whatever the value and other value be.\n",
    "The AppointmentID , ScheduledDay, AppointmentDay ,Alcoholism all these columns i had drop thinking it has no effect\n",
    "on my anlysis.\n",
    "Drop all row of the age value of -1\n"
   ]
  },
  {
   "cell_type": "code",
   "execution_count": 81,
   "metadata": {},
   "outputs": [
    {
     "data": {
      "text/plain": [
       "0"
      ]
     },
     "execution_count": 81,
     "metadata": {},
     "output_type": "execute_result"
    }
   ],
   "source": [
    "from subprocess import call\n",
    "call(['python', '-m', 'nbconvert', 'Investigate_a_Dataset.ipynb'])"
   ]
  },
  {
   "cell_type": "code",
   "execution_count": null,
   "metadata": {},
   "outputs": [],
   "source": []
  },
  {
   "cell_type": "code",
   "execution_count": null,
   "metadata": {},
   "outputs": [],
   "source": []
  }
 ],
 "metadata": {
  "kernelspec": {
   "display_name": "Python 3",
   "language": "python",
   "name": "python3"
  },
  "language_info": {
   "codemirror_mode": {
    "name": "ipython",
    "version": 3
   },
   "file_extension": ".py",
   "mimetype": "text/x-python",
   "name": "python",
   "nbconvert_exporter": "python",
   "pygments_lexer": "ipython3",
   "version": "3.6.3"
  }
 },
 "nbformat": 4,
 "nbformat_minor": 2
}
